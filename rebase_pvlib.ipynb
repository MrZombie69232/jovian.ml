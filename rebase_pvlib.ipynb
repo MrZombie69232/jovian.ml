{
  "nbformat": 4,
  "nbformat_minor": 0,
  "metadata": {
    "colab": {
      "name": "rebase_pvlib.ipynb",
      "provenance": [],
      "collapsed_sections": [],
      "include_colab_link": true
    },
    "kernelspec": {
      "name": "python3",
      "display_name": "Python 3"
    },
    "language_info": {
      "name": "python"
    }
  },
  "cells": [
    {
      "cell_type": "markdown",
      "metadata": {
        "id": "view-in-github",
        "colab_type": "text"
      },
      "source": [
        "<a href=\"https://colab.research.google.com/github/MrZombie69232/jovian.ml/blob/master/rebase_pvlib.ipynb\" target=\"_parent\"><img src=\"https://colab.research.google.com/assets/colab-badge.svg\" alt=\"Open In Colab\"/></a>"
      ]
    },
    {
      "cell_type": "code",
      "metadata": {
        "id": "rzofwUJehUk1"
      },
      "source": [
        "# load pvlib required packages\n",
        "import os\n",
        "\n",
        "import itertools\n",
        "\n",
        "import matplotlib.pyplot as plt\n",
        "\n",
        "import pandas as pd\n"
      ],
      "execution_count": 1,
      "outputs": []
    },
    {
      "cell_type": "code",
      "metadata": {
        "colab": {
          "base_uri": "https://localhost:8080/"
        },
        "id": "XAb84VqMh7T_",
        "outputId": "0234b3e7-3b22-49f5-a117-ea89442e5343"
      },
      "source": [
        "pip install pvlib"
      ],
      "execution_count": 2,
      "outputs": [
        {
          "output_type": "stream",
          "name": "stdout",
          "text": [
            "Collecting pvlib\n",
            "  Downloading pvlib-0.9.0-py3-none-any.whl (27.5 MB)\n",
            "\u001b[K     |████████████████████████████████| 27.5 MB 111 kB/s \n",
            "\u001b[?25hRequirement already satisfied: numpy>=1.12.0 in /usr/local/lib/python3.7/dist-packages (from pvlib) (1.19.5)\n",
            "Requirement already satisfied: h5py in /usr/local/lib/python3.7/dist-packages (from pvlib) (3.1.0)\n",
            "Requirement already satisfied: pytz in /usr/local/lib/python3.7/dist-packages (from pvlib) (2018.9)\n",
            "Requirement already satisfied: requests in /usr/local/lib/python3.7/dist-packages (from pvlib) (2.23.0)\n",
            "Requirement already satisfied: pandas>=0.22.0 in /usr/local/lib/python3.7/dist-packages (from pvlib) (1.1.5)\n",
            "Requirement already satisfied: scipy>=1.2.0 in /usr/local/lib/python3.7/dist-packages (from pvlib) (1.4.1)\n",
            "Requirement already satisfied: python-dateutil>=2.7.3 in /usr/local/lib/python3.7/dist-packages (from pandas>=0.22.0->pvlib) (2.8.2)\n",
            "Requirement already satisfied: six>=1.5 in /usr/local/lib/python3.7/dist-packages (from python-dateutil>=2.7.3->pandas>=0.22.0->pvlib) (1.15.0)\n",
            "Requirement already satisfied: cached-property in /usr/local/lib/python3.7/dist-packages (from h5py->pvlib) (1.5.2)\n",
            "Requirement already satisfied: urllib3!=1.25.0,!=1.25.1,<1.26,>=1.21.1 in /usr/local/lib/python3.7/dist-packages (from requests->pvlib) (1.24.3)\n",
            "Requirement already satisfied: chardet<4,>=3.0.2 in /usr/local/lib/python3.7/dist-packages (from requests->pvlib) (3.0.4)\n",
            "Requirement already satisfied: certifi>=2017.4.17 in /usr/local/lib/python3.7/dist-packages (from requests->pvlib) (2021.5.30)\n",
            "Requirement already satisfied: idna<3,>=2.5 in /usr/local/lib/python3.7/dist-packages (from requests->pvlib) (2.10)\n",
            "Installing collected packages: pvlib\n",
            "Successfully installed pvlib-0.9.0\n"
          ]
        }
      ]
    },
    {
      "cell_type": "code",
      "metadata": {
        "id": "R-yAX6dwh-sY"
      },
      "source": [
        "import pvlib\n",
        "\n",
        "from pvlib import clearsky, atmosphere, solarposition\n",
        "\n",
        "from pvlib.location import Location\n",
        "\n",
        "from pvlib.iotools import read_tmy3"
      ],
      "execution_count": 3,
      "outputs": []
    },
    {
      "cell_type": "code",
      "metadata": {
        "id": "mtaJhNBziE8y"
      },
      "source": [
        "# load geolocation packages\n",
        "from geopy.geocoders import Nominatim\n",
        "import time\n",
        "from pprint import pprint\n",
        "import requests\n",
        "import pytz\n"
      ],
      "execution_count": 4,
      "outputs": []
    },
    {
      "cell_type": "code",
      "metadata": {
        "colab": {
          "base_uri": "https://localhost:8080/"
        },
        "id": "EhbxA-gGn4af",
        "outputId": "3b9089c0-f934-4a83-e50a-826b0ea456a3"
      },
      "source": [
        "pip install Nominatim"
      ],
      "execution_count": 5,
      "outputs": [
        {
          "output_type": "stream",
          "name": "stdout",
          "text": [
            "Collecting Nominatim\n",
            "  Downloading nominatim-0.1.tar.gz (1.7 kB)\n",
            "Building wheels for collected packages: Nominatim\n",
            "  Building wheel for Nominatim (setup.py) ... \u001b[?25l\u001b[?25hdone\n",
            "  Created wheel for Nominatim: filename=nominatim-0.1-py3-none-any.whl size=2363 sha256=65631a821b1ccc7e051baeace92d13368acdbcc8161d5b78a999902662dd6c1b\n",
            "  Stored in directory: /root/.cache/pip/wheels/37/00/9e/d904c390bfb174830ad3dcfd62af5544cee7d88bed4f8acedd\n",
            "Successfully built Nominatim\n",
            "Installing collected packages: Nominatim\n",
            "Successfully installed Nominatim-0.1\n"
          ]
        }
      ]
    },
    {
      "cell_type": "code",
      "metadata": {
        "id": "le_gVqIrpQ_n"
      },
      "source": [
        "import pandas as pd"
      ],
      "execution_count": 6,
      "outputs": []
    },
    {
      "cell_type": "code",
      "metadata": {
        "id": "Y63ENzb8iHqi"
      },
      "source": [
        "def get_elevation(lat, long):\n",
        "    query = ('https://api.open-elevation.com/api/v1/lookup'\n",
        "             f'?locations={lat},{long}')\n",
        "    r = requests.get(query).json()  # json object, various ways you can extract value\n",
        "    # one approach is to use pandas json functionality:\n",
        "    elevation = pd.io.json.json_normalize(r, 'results')['elevation'].values[0]\n",
        "    return elevation"
      ],
      "execution_count": 7,
      "outputs": []
    },
    {
      "cell_type": "code",
      "metadata": {
        "id": "l5I37e-LqdUP"
      },
      "source": [
        "def local_hour_angle(apparent_sidereal_time, observer_longitude,\n",
        "                     sun_right_ascension):\n",
        "    \"\"\"Measured westward from south\"\"\"\n",
        "    print(f'{apparent_sidereal_time!r}')\n",
        "    print(f'{observer_longitude!r}')\n",
        "    print(f'{sun_right_ascension!r}')\n",
        "    H = apparent_sidereal_time + observer_longitude - sun_right_ascension\n",
        "    return H % 360"
      ],
      "execution_count": 8,
      "outputs": []
    },
    {
      "cell_type": "code",
      "metadata": {
        "colab": {
          "base_uri": "https://localhost:8080/"
        },
        "id": "_xutW23Gq71v",
        "outputId": "726cb6da-87e7-4db3-ba9c-4d16555dc57c"
      },
      "source": [
        "pip install pvlib"
      ],
      "execution_count": 9,
      "outputs": [
        {
          "output_type": "stream",
          "name": "stdout",
          "text": [
            "Requirement already satisfied: pvlib in /usr/local/lib/python3.7/dist-packages (0.9.0)\n",
            "Requirement already satisfied: h5py in /usr/local/lib/python3.7/dist-packages (from pvlib) (3.1.0)\n",
            "Requirement already satisfied: numpy>=1.12.0 in /usr/local/lib/python3.7/dist-packages (from pvlib) (1.19.5)\n",
            "Requirement already satisfied: pandas>=0.22.0 in /usr/local/lib/python3.7/dist-packages (from pvlib) (1.1.5)\n",
            "Requirement already satisfied: requests in /usr/local/lib/python3.7/dist-packages (from pvlib) (2.23.0)\n",
            "Requirement already satisfied: scipy>=1.2.0 in /usr/local/lib/python3.7/dist-packages (from pvlib) (1.4.1)\n",
            "Requirement already satisfied: pytz in /usr/local/lib/python3.7/dist-packages (from pvlib) (2018.9)\n",
            "Requirement already satisfied: python-dateutil>=2.7.3 in /usr/local/lib/python3.7/dist-packages (from pandas>=0.22.0->pvlib) (2.8.2)\n",
            "Requirement already satisfied: six>=1.5 in /usr/local/lib/python3.7/dist-packages (from python-dateutil>=2.7.3->pandas>=0.22.0->pvlib) (1.15.0)\n",
            "Requirement already satisfied: cached-property in /usr/local/lib/python3.7/dist-packages (from h5py->pvlib) (1.5.2)\n",
            "Requirement already satisfied: idna<3,>=2.5 in /usr/local/lib/python3.7/dist-packages (from requests->pvlib) (2.10)\n",
            "Requirement already satisfied: urllib3!=1.25.0,!=1.25.1,<1.26,>=1.21.1 in /usr/local/lib/python3.7/dist-packages (from requests->pvlib) (1.24.3)\n",
            "Requirement already satisfied: chardet<4,>=3.0.2 in /usr/local/lib/python3.7/dist-packages (from requests->pvlib) (3.0.4)\n",
            "Requirement already satisfied: certifi>=2017.4.17 in /usr/local/lib/python3.7/dist-packages (from requests->pvlib) (2021.5.30)\n"
          ]
        }
      ]
    },
    {
      "cell_type": "code",
      "metadata": {
        "id": "lgYVUSd8rTgV"
      },
      "source": [
        "from pvlib.location import Location"
      ],
      "execution_count": 10,
      "outputs": []
    },
    {
      "cell_type": "code",
      "metadata": {
        "colab": {
          "base_uri": "https://localhost:8080/"
        },
        "id": "lTt8cnvbiKkd",
        "outputId": "4ba0a6e7-9bd1-4e76-c287-ec5b5d663b0b"
      },
      "source": [
        "import pvlib\n",
        "if __name__ == '__main__':\n",
        "    app = Nominatim(user_agent=\"test_solar\")\n",
        "\n",
        "    loc_raw = app.geocode('Postintaival 7, 00230 Helsinki, Finland').raw\n",
        "\n",
        "    latitude = loc_raw['lat']\n",
        "    longitude = loc_raw['lon']\n",
        "    latitude = float(loc_raw['lat'])\n",
        "    longitude = float(loc_raw['lon'])\n",
        "    altitude = get_elevation(latitude, longitude)\n",
        "\n",
        "    location_object = Location(latitude, longitude, 'Europe/Helsinki',\n",
        "                               altitude, 'relex_solutions')\n",
        "    weather = pvlib.iotools.get_pvgis_tmy(latitude, longitude,\n",
        "                                          map_variables=True)[0]\n",
        "\n",
        "    times = weather.index\n",
        "\n",
        "    solpos = location_object.get_solarposition(times)\n",
        "    clearsky_values = location_object.get_clearsky(times, model='ineichen',\n",
        "                                                   solar_position=solpos, dni_extra=None)"
      ],
      "execution_count": 11,
      "outputs": [
        {
          "output_type": "stream",
          "name": "stderr",
          "text": [
            "/usr/local/lib/python3.7/dist-packages/ipykernel_launcher.py:6: FutureWarning: pandas.io.json.json_normalize is deprecated, use pandas.json_normalize instead\n",
            "  \n"
          ]
        }
      ]
    },
    {
      "cell_type": "code",
      "metadata": {
        "id": "v67b1tQ0iQcJ"
      },
      "source": [
        "df = pd.DataFrame(clearsky_values)\n",
        "df.to_csv('clearsky_values.csv')"
      ],
      "execution_count": 17,
      "outputs": []
    },
    {
      "cell_type": "code",
      "metadata": {
        "id": "buz2Gdnkipzr",
        "outputId": "94ecbb98-5455-4de4-81b6-502431d60e9d",
        "colab": {
          "base_uri": "https://localhost:8080/"
        }
      },
      "source": [
        "df.columns"
      ],
      "execution_count": 13,
      "outputs": [
        {
          "output_type": "execute_result",
          "data": {
            "text/plain": [
              "Index(['ghi', 'dni', 'dhi'], dtype='object')"
            ]
          },
          "metadata": {},
          "execution_count": 13
        }
      ]
    },
    {
      "cell_type": "code",
      "metadata": {
        "id": "5XgTK-Bf8DKV",
        "outputId": "ed799af2-fb1b-420a-dd5c-08c604becd1d",
        "colab": {
          "base_uri": "https://localhost:8080/"
        }
      },
      "source": [
        "df.describe"
      ],
      "execution_count": 14,
      "outputs": [
        {
          "output_type": "execute_result",
          "data": {
            "text/plain": [
              "<bound method NDFrame.describe of                            ghi  dni  dhi\n",
              "time(UTC)                               \n",
              "2012-01-01 00:00:00+00:00  0.0  0.0  0.0\n",
              "2012-01-01 01:00:00+00:00  0.0  0.0  0.0\n",
              "2012-01-01 02:00:00+00:00  0.0  0.0  0.0\n",
              "2012-01-01 03:00:00+00:00  0.0  0.0  0.0\n",
              "2012-01-01 04:00:00+00:00  0.0  0.0  0.0\n",
              "...                        ...  ...  ...\n",
              "2014-12-31 19:00:00+00:00  0.0  0.0  0.0\n",
              "2014-12-31 20:00:00+00:00  0.0  0.0  0.0\n",
              "2014-12-31 21:00:00+00:00  0.0  0.0  0.0\n",
              "2014-12-31 22:00:00+00:00  0.0  0.0  0.0\n",
              "2014-12-31 23:00:00+00:00  0.0  0.0  0.0\n",
              "\n",
              "[8760 rows x 3 columns]>"
            ]
          },
          "metadata": {},
          "execution_count": 14
        }
      ]
    },
    {
      "cell_type": "code",
      "metadata": {
        "id": "ieU9Kct58PpJ"
      },
      "source": [
        "df2 = pd.DataFrame(solpos)\n",
        "df2.to_csv('solpos.csv')"
      ],
      "execution_count": 16,
      "outputs": []
    },
    {
      "cell_type": "code",
      "metadata": {
        "id": "aY1grrgw8F5f"
      },
      "source": [
        ""
      ],
      "execution_count": null,
      "outputs": []
    }
  ]
}